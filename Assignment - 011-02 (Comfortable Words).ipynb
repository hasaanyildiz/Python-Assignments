{
 "cells": [
  {
   "cell_type": "code",
   "execution_count": 1,
   "id": "634dd0e5",
   "metadata": {},
   "outputs": [
    {
     "name": "stdout",
     "output_type": "stream",
     "text": [
      "Enter a word:nenene\n",
      "True\n"
     ]
    }
   ],
   "source": [
    "word = list(input(\"Enter a word:\"))\n",
    "\n",
    "left_hand = list(\"qwertasdfgzxcvb\")\n",
    "\n",
    "right_hand = list(\"yuıopğühjklşinmöç\")\n",
    "\n",
    "flag = False\n",
    "\n",
    "for i in range(0,len(left_hand)):\n",
    "\n",
    "    if left_hand[i] in word:\n",
    "\n",
    "        for j in range(0,len(right_hand)):\n",
    "\n",
    "            if right_hand[j] in word:\n",
    "\n",
    "                flag = True\n",
    "\n",
    "                break\n",
    "\n",
    "\n",
    "\n",
    "print(flag)"
   ]
  },
  {
   "cell_type": "code",
   "execution_count": null,
   "id": "55aefe9f",
   "metadata": {},
   "outputs": [],
   "source": []
  }
 ],
 "metadata": {
  "kernelspec": {
   "display_name": "Python 3 (ipykernel)",
   "language": "python",
   "name": "python3"
  },
  "language_info": {
   "codemirror_mode": {
    "name": "ipython",
    "version": 3
   },
   "file_extension": ".py",
   "mimetype": "text/x-python",
   "name": "python",
   "nbconvert_exporter": "python",
   "pygments_lexer": "ipython3",
   "version": "3.9.7"
  }
 },
 "nbformat": 4,
 "nbformat_minor": 5
}
