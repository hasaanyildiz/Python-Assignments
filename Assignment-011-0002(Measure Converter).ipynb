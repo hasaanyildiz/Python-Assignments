{
 "cells": [
  {
   "cell_type": "code",
   "execution_count": 1,
   "id": "2b649cb7",
   "metadata": {},
   "outputs": [
    {
     "name": "stdout",
     "output_type": "stream",
     "text": [
      "Enter the celcius :30\n",
      "1014.0\n",
      "Enter the distance(km):8\n",
      "4.97\n"
     ]
    }
   ],
   "source": [
    "celcius = float(input(\"Enter the celcius :\"))\n",
    "\n",
    "fahrenheit = 33.8*celcius\n",
    "\n",
    "print(round(fahrenheit,2))\n",
    "\n",
    "\n",
    "\n",
    "\n",
    "\n",
    "distance_km = float(input(\"Enter the distance(km):\"))\n",
    "\n",
    "distance_mile =  0.621*distance_km\n",
    "\n",
    "print(round(distance_mile,2))"
   ]
  },
  {
   "cell_type": "code",
   "execution_count": null,
   "id": "e161fae2",
   "metadata": {},
   "outputs": [],
   "source": []
  }
 ],
 "metadata": {
  "kernelspec": {
   "display_name": "Python 3 (ipykernel)",
   "language": "python",
   "name": "python3"
  },
  "language_info": {
   "codemirror_mode": {
    "name": "ipython",
    "version": 3
   },
   "file_extension": ".py",
   "mimetype": "text/x-python",
   "name": "python",
   "nbconvert_exporter": "python",
   "pygments_lexer": "ipython3",
   "version": "3.9.7"
  }
 },
 "nbformat": 4,
 "nbformat_minor": 5
}
