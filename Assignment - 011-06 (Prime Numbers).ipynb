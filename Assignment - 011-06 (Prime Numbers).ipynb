{
 "cells": [
  {
   "cell_type": "code",
   "execution_count": 1,
   "id": "52dec8e1",
   "metadata": {},
   "outputs": [
    {
     "name": "stdout",
     "output_type": "stream",
     "text": [
      "Enter a limit number to print prime numbers:150\n",
      "[2, 3, 5, 7, 11, 13, 17, 19, 23, 29, 31, 37, 41, 43, 47, 53, 59, 61, 67, 71, 73, 79, 83, 89, 97, 101, 103, 107, 109, 113, 127, 131, 137, 139, 149]\n"
     ]
    }
   ],
   "source": [
    "prime_list = []\n",
    "\n",
    "limit_num = int(input(\"Enter a limit number to print prime numbers:\"))\n",
    "\n",
    "for i in range(2,limit_num+1):\n",
    "\n",
    "    for j in range(2, i):\n",
    "\n",
    "        if i % j == 0:\n",
    "\n",
    "            break\n",
    "\n",
    "    else:\n",
    "\n",
    "        prime_list.append(i)\n",
    "\n",
    "\n",
    "\n",
    "print(prime_list)"
   ]
  },
  {
   "cell_type": "code",
   "execution_count": null,
   "id": "242b7b45",
   "metadata": {},
   "outputs": [],
   "source": []
  }
 ],
 "metadata": {
  "kernelspec": {
   "display_name": "Python 3 (ipykernel)",
   "language": "python",
   "name": "python3"
  },
  "language_info": {
   "codemirror_mode": {
    "name": "ipython",
    "version": 3
   },
   "file_extension": ".py",
   "mimetype": "text/x-python",
   "name": "python",
   "nbconvert_exporter": "python",
   "pygments_lexer": "ipython3",
   "version": "3.9.7"
  }
 },
 "nbformat": 4,
 "nbformat_minor": 5
}
