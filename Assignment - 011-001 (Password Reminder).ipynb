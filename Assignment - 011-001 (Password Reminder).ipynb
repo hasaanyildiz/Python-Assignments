{
 "cells": [
  {
   "cell_type": "code",
   "execution_count": 2,
   "id": "77f92ef5",
   "metadata": {},
   "outputs": [
    {
     "name": "stdout",
     "output_type": "stream",
     "text": [
      "What's your first name: hasan\n",
      "Hello, hasan! See you later.\n"
     ]
    }
   ],
   "source": [
    "# Code 1(İsimlerin bold olmamış hali)\n",
    "\n",
    "name = input(\"What's your first name: \")\n",
    "\n",
    "pw = {\"Hasan\":\"sanane\"}\n",
    "\n",
    "if name != \"Hasan\":\n",
    "\n",
    "    print(\"Hello, {}! See you later.\".format(name)) \n",
    "\n",
    "else:\n",
    "\n",
    "    print(\"Hello, {}! The password is: '{}'\".format(name,pw[name]))\n",
    "\n",
    "\n",
    "\n"
   ]
  },
  {
   "cell_type": "code",
   "execution_count": 3,
   "id": "f8731bd6",
   "metadata": {},
   "outputs": [
    {
     "name": "stdout",
     "output_type": "stream",
     "text": [
      "What's your first name: hasan\n",
      "Hello,\u001b[1mhasan\u001b[0m! See you later.\n"
     ]
    }
   ],
   "source": [
    "# Code 2(İsimlerin bold olmuş hali)\n",
    "\n",
    "\n",
    "name = input(\"What's your first name: \")\n",
    "\n",
    "pw = {\"Hasan\":\"sanane\"}\n",
    "\n",
    "if name != \"Hasan\":\n",
    "\n",
    "    print(\"Hello,\" + \"\\033[1m\" + name + \"\\033[0m\" + \"! See you later.\") \n",
    "\n",
    "else:\n",
    "\n",
    "    print(\"Hello, \" + \"\\033[1m\" + name + \"\\033[0m\" + \"! The password is:\", pw[name])"
   ]
  },
  {
   "cell_type": "code",
   "execution_count": null,
   "id": "40050c0f",
   "metadata": {},
   "outputs": [],
   "source": []
  }
 ],
 "metadata": {
  "kernelspec": {
   "display_name": "Python 3 (ipykernel)",
   "language": "python",
   "name": "python3"
  },
  "language_info": {
   "codemirror_mode": {
    "name": "ipython",
    "version": 3
   },
   "file_extension": ".py",
   "mimetype": "text/x-python",
   "name": "python",
   "nbconvert_exporter": "python",
   "pygments_lexer": "ipython3",
   "version": "3.9.7"
  }
 },
 "nbformat": 4,
 "nbformat_minor": 5
}
