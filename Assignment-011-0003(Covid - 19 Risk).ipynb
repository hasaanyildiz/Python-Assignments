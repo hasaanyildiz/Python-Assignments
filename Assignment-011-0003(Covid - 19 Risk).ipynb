{
 "cells": [
  {
   "cell_type": "code",
   "execution_count": 1,
   "id": "89d5f07b",
   "metadata": {},
   "outputs": [
    {
     "name": "stdout",
     "output_type": "stream",
     "text": [
      "Are you a cigarette addict older than 75 years old?:no\n",
      "Do you have a severe chronic disease?:no\n",
      "Is your immune system too weak:no\n",
      "Risk: False ==> There is not a risk of death.\n"
     ]
    }
   ],
   "source": [
    "age = input(\"Are you a cigarette addict older than 75 years old?:\")\n",
    "\n",
    "chronic = input(\"Do you have a severe chronic disease?:\")\n",
    "\n",
    "immune = input(\"Is your immune system too weak:\")\n",
    "\n",
    "\n",
    "\n",
    "if age == \"Yes\" or age == \"yes\":\n",
    "\n",
    "    age = True\n",
    "\n",
    "else:\n",
    "\n",
    "    age = False\n",
    "\n",
    "\n",
    "\n",
    "if chronic == \"Yes\" or chronic == \"yes\":\n",
    "\n",
    "    chronic = True\n",
    "\n",
    "else:\n",
    "\n",
    "    chronic = False\n",
    "\n",
    "\n",
    "\n",
    "if immune == \"Yes\" or immune == \"yes\":\n",
    "\n",
    "    immune = True\n",
    "\n",
    "else:\n",
    "\n",
    "    immune = False\n",
    "\n",
    "\n",
    "\n",
    "risk = age or chronic or immune\n",
    "\n",
    "\n",
    "\n",
    "if risk == True:\n",
    "\n",
    "    print(\"Risk:\",risk, \" ==> There is a risk of death.\")\n",
    "\n",
    "else:\n",
    "\n",
    "    print(\"Risk:\",risk, \"==> There is not a risk of death.\")"
   ]
  },
  {
   "cell_type": "code",
   "execution_count": null,
   "id": "75d433cb",
   "metadata": {},
   "outputs": [],
   "source": []
  }
 ],
 "metadata": {
  "kernelspec": {
   "display_name": "Python 3 (ipykernel)",
   "language": "python",
   "name": "python3"
  },
  "language_info": {
   "codemirror_mode": {
    "name": "ipython",
    "version": 3
   },
   "file_extension": ".py",
   "mimetype": "text/x-python",
   "name": "python",
   "nbconvert_exporter": "python",
   "pygments_lexer": "ipython3",
   "version": "3.9.7"
  }
 },
 "nbformat": 4,
 "nbformat_minor": 5
}
