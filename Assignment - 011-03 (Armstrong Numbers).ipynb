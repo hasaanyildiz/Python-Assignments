{
 "cells": [
  {
   "cell_type": "code",
   "execution_count": 10,
   "id": "30e9540c",
   "metadata": {},
   "outputs": [
    {
     "name": "stdout",
     "output_type": "stream",
     "text": [
      "Enter a positive integer number:407\n",
      "407 is an Armstrong number.\n"
     ]
    }
   ],
   "source": [
    "flag = True\n",
    "\n",
    "\n",
    "try:\n",
    "\n",
    "    num = int(input(\"Enter a positive integer number:\"))\n",
    "\n",
    "except ValueError:\n",
    "\n",
    "    print(\"It is an invalid entry. Don't use non-numeric, float, or negative values!\")\n",
    "\n",
    "    flag = False\n",
    "\n",
    "\n",
    "output = 0\n",
    "\n",
    "num2 = num\n",
    "\n",
    "\n",
    "while num2 > 0:\n",
    "\n",
    "    digit = num2 % 10\n",
    "\n",
    "    output += digit ** len(str(num))\n",
    "\n",
    "    num2 //=  10\n",
    "\n",
    "\n",
    "if flag and num > 0 :\n",
    "\n",
    "    if output == num:\n",
    "\n",
    "        print(f\"{num} is an Armstrong number.\")\n",
    "\n",
    "    else:\n",
    "\n",
    "        print(f\"{num} is not an Armstrong number.\")\n",
    "\n",
    "    \n",
    "elif flag and num<0:\n",
    "\n",
    "    print(\"It is an invalid entry. Don't use non-numeric, float, or negative values!\")\n",
    "\n"
   ]
  },
  {
   "cell_type": "code",
   "execution_count": null,
   "id": "79505ae4",
   "metadata": {},
   "outputs": [],
   "source": []
  },
  {
   "cell_type": "code",
   "execution_count": null,
   "id": "aef7b23f",
   "metadata": {},
   "outputs": [],
   "source": []
  }
 ],
 "metadata": {
  "kernelspec": {
   "display_name": "Python 3 (ipykernel)",
   "language": "python",
   "name": "python3"
  },
  "language_info": {
   "codemirror_mode": {
    "name": "ipython",
    "version": 3
   },
   "file_extension": ".py",
   "mimetype": "text/x-python",
   "name": "python",
   "nbconvert_exporter": "python",
   "pygments_lexer": "ipython3",
   "version": "3.9.7"
  }
 },
 "nbformat": 4,
 "nbformat_minor": 5
}
