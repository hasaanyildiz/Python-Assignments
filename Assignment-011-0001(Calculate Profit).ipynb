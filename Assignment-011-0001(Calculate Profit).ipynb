{
 "cells": [
  {
   "cell_type": "code",
   "execution_count": 4,
   "id": "a96d3daf",
   "metadata": {},
   "outputs": [
    {
     "name": "stdout",
     "output_type": "stream",
     "text": [
      "Your money after 7 day is: 1605.78 and your net profit is: 605.78\n"
     ]
    }
   ],
   "source": [
    "own_money=1000\n",
    "\n",
    "deposit=1000\n",
    "\n",
    "day=1\n",
    "\n",
    "profit=1.07\n",
    "\n",
    "while day<=7:\n",
    "\n",
    "    deposit=deposit*profit\n",
    "\n",
    "    day+=1\n",
    "\n",
    "\n",
    "\n",
    "\n",
    "\n",
    "print(\"Your money after 7 day is:\", round(deposit,2) , \"and your net profit is:\", round(deposit-own_money,2) )"
   ]
  },
  {
   "cell_type": "code",
   "execution_count": null,
   "id": "8e4441c7",
   "metadata": {},
   "outputs": [],
   "source": []
  }
 ],
 "metadata": {
  "kernelspec": {
   "display_name": "Python 3 (ipykernel)",
   "language": "python",
   "name": "python3"
  },
  "language_info": {
   "codemirror_mode": {
    "name": "ipython",
    "version": 3
   },
   "file_extension": ".py",
   "mimetype": "text/x-python",
   "name": "python",
   "nbconvert_exporter": "python",
   "pygments_lexer": "ipython3",
   "version": "3.9.7"
  }
 },
 "nbformat": 4,
 "nbformat_minor": 5
}
