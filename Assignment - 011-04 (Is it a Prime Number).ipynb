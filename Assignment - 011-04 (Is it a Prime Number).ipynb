{
 "cells": [
  {
   "cell_type": "code",
   "execution_count": 1,
   "id": "403231b9",
   "metadata": {},
   "outputs": [
    {
     "name": "stdout",
     "output_type": "stream",
     "text": [
      "Enter a positive integer number: 65\n",
      "Factors : [1, 5, 13, 65]\n",
      "65 is not a prime number.\n"
     ]
    }
   ],
   "source": [
    "flag = True\n",
    "\n",
    "try:\n",
    "\n",
    "    num = int(input(\"Enter a positive integer number: \"))\n",
    "\n",
    "except ValueError:\n",
    "\n",
    "    print(\"It is an invalid entry. Don't use non-numeric, float, or negative values!\")\n",
    "\n",
    "    flag = False\n",
    "\n",
    "\n",
    "factors = []\n",
    "\n",
    "\n",
    "while flag:\n",
    "\n",
    "    for i in range(1, num+1):\n",
    "\n",
    "        remain = num % i\n",
    "\n",
    "        if remain == 0:\n",
    "\n",
    "            factors.append(i)\n",
    "\n",
    "    print(f\"Factors : {factors}\")\n",
    "\n",
    "\n",
    "    if len(factors) > 2:\n",
    "\n",
    "        print(f\"{num} is not a prime number.\")\n",
    "\n",
    "    else:\n",
    "\n",
    "        print(f\"{num} is a prime number.\")        \n",
    "\n",
    "    flag = False"
   ]
  },
  {
   "cell_type": "code",
   "execution_count": null,
   "id": "c1222645",
   "metadata": {},
   "outputs": [],
   "source": []
  }
 ],
 "metadata": {
  "kernelspec": {
   "display_name": "Python 3 (ipykernel)",
   "language": "python",
   "name": "python3"
  },
  "language_info": {
   "codemirror_mode": {
    "name": "ipython",
    "version": 3
   },
   "file_extension": ".py",
   "mimetype": "text/x-python",
   "name": "python",
   "nbconvert_exporter": "python",
   "pygments_lexer": "ipython3",
   "version": "3.9.7"
  }
 },
 "nbformat": 4,
 "nbformat_minor": 5
}
